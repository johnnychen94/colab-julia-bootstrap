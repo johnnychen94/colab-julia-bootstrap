{
  "cells": [
    {
      "cell_type": "code",
      "execution_count": null,
      "metadata": {
        "id": "PzmKOAh2LZrF"
      },
      "outputs": [],
      "source": [
        "# The Julia boostrap block\n",
        "# This should be run for the first time to install Julia kernel, and then reload the kernel via the\n",
        "# following step:\n",
        "#\n",
        "# 1. go to \"view resources\" -> \"change runtime type\"\n",
        "# 2. ensure it is \"Julia\" and \"GPU\". Almost certainly you don't need to change anything here if you're already on GPU runtime.\n",
        "# 3. click \"save\" to trigger the kernel reload.\n",
        "#\n",
        "# By doing this, colab will reload the notebook with Julia kernel.\n",
        "\n",
        "# 1. install latest Julia using jill.py\n",
        "#    tip: one can install specific Julia version using e.g., `jill install 1.7`\n",
        "!pip install jill && jill install --upstream Official --confirm\n",
        "# 2. install IJulia kernel\n",
        "! julia -e 'using Pkg; Pkg.add([\"IJulia\", \"CUDA\"]); using IJulia; installkernel(\"Julia\")'\n",
        "# 3. hot-fix patch to strip the version suffix of the installed kernel so that this notebook kernelspec is version agnostic\n",
        "!jupyter kernelspec install $(jupyter kernelspec list | grep julia | tr -s ' ' | cut -d' ' -f3) --replace --name julia"
      ]
    },
    {
      "cell_type": "code",
      "execution_count": null,
      "metadata": {},
      "outputs": [],
      "source": [
        "# It takes quite a long time to download the entire CUDA artifacts\n",
        "# so it's probably worth just telling CUDA.jl to use the system installed version of it.\n",
        "ENV[\"JULIA_CUDA_USE_BINARYBUILDER\"] = false\n",
        "\n",
        "using CUDA\n",
        "CUDA.versioninfo()"
      ]
    }
  ],
  "metadata": {
    "colab": {
      "collapsed_sections": [],
      "name": "julia.ipynb",
      "provenance": [],
      "toc_visible": true
    },
    "kernelspec": {
      "display_name": "Julia",
      "name": "julia"
    }
  },
  "nbformat": 4,
  "nbformat_minor": 2
}
